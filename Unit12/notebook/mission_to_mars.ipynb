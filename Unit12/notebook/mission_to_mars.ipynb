{
 "cells": [
  {
   "cell_type": "markdown",
   "metadata": {},
   "source": [
    "### Dependencies\n",
    "____"
   ]
  },
  {
   "cell_type": "code",
   "execution_count": 1,
   "metadata": {},
   "outputs": [],
   "source": [
    "from bs4 import BeautifulSoup\n",
    "from splinter import Browser\n",
    "from urllib.parse import urlparse\n",
    "import requests\n",
    "import pandas as pd"
   ]
  },
  {
   "cell_type": "code",
   "execution_count": 2,
   "metadata": {},
   "outputs": [],
   "source": [
    "# splinter driver location\n",
    "# google chrome : 74.x\n",
    "\n",
    "executable_path = {'executable_path': '../resources/webdrivers/chromedriver.exe'}\n",
    "driver_name = 'chrome'"
   ]
  },
  {
   "cell_type": "markdown",
   "metadata": {},
   "source": [
    "### Nasa Mars News\n",
    "_____"
   ]
  },
  {
   "cell_type": "code",
   "execution_count": 65,
   "metadata": {},
   "outputs": [
    {
     "name": "stdout",
     "output_type": "stream",
     "text": [
      "Why This Martian Full Moon Looks Like Candy\n",
      "\tFor the first time, NASA's Mars Odyssey orbiter has caught the Martian moon Phobos during a full moon phase. Each color in this new image represents a temperature range detected by Odyssey's infrared camera.\n",
      "\n",
      "For InSight, Dust Cleanings Will Yield New Science\n",
      "\tWind can be crucial to clearing dust from spacecraft solar panels on Mars. With InSight's meteorological sensors, scientists get their first measurements of wind and dust interacting \"live\" on the Martian surface.  \n",
      "\n",
      "InSight Captures Sunrise and Sunset on Mars\n",
      "\tInSight joins the rest of NASA's Red Planet surface missions, all of which have photographed either the start or end of a Martian day.\n",
      "\n",
      "NASA Social Media and Websites Win Webby Awards \n",
      "\tNASA's social media presence, the InSight mission social media accounts, NASA.gov and SolarSystem.NASA.gov will be honored at the 2019 Webby Awards - \"the Oscars of the Internet.\"\n",
      "\n",
      "NASA's InSight Detects First Likely 'Quake' on Mars\n",
      "\tWhile their causes are still unknown, one of three shaking events looks a lot like the quakes detected on the Moon by the Apollo missions.\n",
      "\n",
      "Things Are Stacking up for NASA's Mars 2020 Spacecraft\n",
      "\tAs the July 2020 launch date inches closer, the next spacecraft headed to the Red Planet is assembled for more testing.\n",
      "\n",
      "Curiosity Tastes First Sample in 'Clay-Bearing Unit'\n",
      "\tThis new region on Mars might reveal more about the role of water on Mount Sharp.\n",
      "\n",
      "More Testing for Mars InSight's 'Mole'\n",
      "\tAfter the mission's heat probe began hammering last week, it appears to have hit a rock. The team is analyzing data before they hammer again.\n",
      "\n",
      "NASA Garners 7 Webby Award Nominations\n",
      "\tNominees include four JPL projects: the solar system and climate websites, InSight social media, and a 360-degree Earth video. Public voting closes April 18, 2019.\n",
      "\n",
      "Curiosity Captured Two Solar Eclipses on Mars\n",
      "\tObserving the Martian moons Phobos and Deimos crossing in front of the Sun helps scientists better understand their orbits.\n",
      "\n",
      "NASA's Mars Helicopter Completes Flight Tests\n",
      "\tThe first helicopter to fly on Mars had its first flight on Earth.\n",
      "\n",
      "Asteroids, Hydrogen Make Great Recipe for Life on Mars\n",
      "\tLaser blasts in lab tests suggest asteroid bombardment could have provided key ingredients for life on ancient Mars.\n",
      "\n",
      "Catch NASA's JPL at the Clippers SciFest This Weekend\n",
      "\tStudents and families can meet a Mars rover, take a virtual tour through our solar system and explore alien worlds with NASA's Jet Propulsion Laboratory at the Clippers SciFest SoCal.\n",
      "\n",
      "NASA's Mars 2020 Rover Is Put to the Test\n",
      "\tIn January, Mars 2020 engineers and technicians took over JPL's cleanroom to put the mission's cruise, entry capsule, descent stage and rover through their paces.\n",
      "\n",
      "Opportunity's Parting Shot Was a Beautiful Panorama\n",
      "\tNASA declared the record-setting rover's mission complete on Feb. 13, 2019, but the final image from the rover has just been processed.\n",
      "\n",
      "Curiosity Resumes Operations After Switching Computers\n",
      "\tCuriosity experienced a computer reset on its Side-A computer on Wednesday, March 6, 2019 (Sol 2,339), that triggered the rover's safe mode.\n",
      "\n",
      "InSight Lands Praise and a Proclamation from LA County\n",
      "\tSeveral members of the Mars InSight team accepted a proclamation on behalf of the mission from L.A. County Board of Supervisors on Tuesday, Feb. 19.\n",
      "\n",
      "InSight Is the Newest Mars Weather Service\n",
      "\tBy collecting data around the clock, NASA's lander will provide unique science about the Martian surface.\n",
      "\n",
      "Six Things to Know About NASA's Opportunity Rover\n",
      "\tOpportunity's mission is complete. Here are highlights from its time on Mars.\n",
      "\n",
      "NASA's Opportunity Rover Mission on Mars Comes to End\n",
      "\tNASA's Opportunity Mars rover mission is complete after 15 years on Mars. Opportunity's record-breaking exploration laid the groundwork for future missions to the Red Planet.\n",
      "\n",
      "NASA's InSight Prepares to Take Mars' Temperature\n",
      "\tThe lander's second instrument is on the ground. But its ‘mole’ — a burrowing probe — has a long way to go.\n",
      "\n",
      "NASA to Share Results of Effort to Recover Mars Rover\n",
      "\tNASA will discuss the status of its Mars Exploration Rover Opportunity in a media briefing at 11 a.m. PST (2 p.m. EST) Wednesday, Feb. 13, from the Jet Propulsion Laboratory.\n",
      "\n",
      "NASA's MAVEN Spacecraft Shrinking its Mars Orbit to Prepare for Mars 2020 Rover\n",
      "\tThe MAVEN spacecraft today is starting a campaign to tighten its orbit around Mars to prepare to serve as a data-relay satellite for NASA’s Mars 2020 rover, which launches next year.\n",
      "\n",
      "360 Video: Curiosity Rover Departs Vera Rubin Ridge\n",
      "\tThis panorama from the Mast Camera (Mastcam) on NASA's Curiosity Mars rover was taken on Dec. 19 (Sol 2265). The rover's last drill location on Vera Rubin Ridge is visible, as well as the clay region it will spend the next year exploring.\n",
      "\n",
      "Beyond Mars, the Mini MarCO Spacecraft Fall Silent\n",
      "\tThe first CubeSat mission to deep space may have reached their limit, but they could inspire future NASA missions.\n",
      "\n",
      "InSight's Seismometer Now Has a Cozy Shelter on Mars\n",
      "\tA domed shield has been set over one of InSight's primary science instruments, protecting it from Mars' wind and temperature changes.\n",
      "\n",
      "\"Mars Buggy\" Curiosity Measures a Mountain's Gravity\n",
      "\tSmartphone-like sensors on the NASA rover were used to calculate the density of Mount Sharp, offering new clues to its formation.\n",
      "\n",
      "Curiosity Says Farewell to Mars' Vera Rubin Ridge\n",
      "\tThe Mars rover is moving on and has taken its last selfie on the ridge it's explored for more than a year.\n",
      "\n",
      "Rover Team Beaming New Commands to Opportunity on Mars\n",
      "\tEngineers at JPL have begun transmitting a new set of commands to Opportunity in an attempt to compel the Mars rover to contact Earth.\n",
      "\n",
      "NASA's Opportunity Rover Logs 15 Years on Mars\n",
      "\tThe rover landed in a region of the Red Planet called Meridiani Planum 16 years ago today, on Jan. 24, 2004.\n",
      "\n",
      "NASA's InSight Places First Instrument on Mars\n",
      "\tIn deploying its first instrument onto the surface of Mars, the lander completes a major mission milestone.\n",
      "\n",
      "InSight Engineers Have Made a Martian Rock Garden\n",
      "\tReconstructing Mars here on Earth lets them practice setting down the lander's science instruments.\n",
      "\n",
      "Mars InSight Lander Seen in First Images from Space \n",
      "\tLook closely, and you can make out the lander's solar panels.\n",
      "\n",
      "NASA's InSight Takes Its First Selfie\n",
      "\tTwo new image mosaics detail the lander's deck and \"workspace\" — the surface where it will eventually set down its science instruments.\n",
      "\n",
      "NASA InSight Lander 'Hears' Martian Winds \n",
      "\tVibrations picked up by two spacecraft instruments have provided the first sounds of Martian wind.\n",
      "\n",
      "NASA's Mars InSight Flexes Its Arm\n",
      "\tNow unstowed, the spacecraft's robotic arm will point a camera located on its elbow and take images of the surroundings.\n",
      "\n",
      "Mars New Home 'a Large Sandbox'\n",
      "\tWith InSight safely on the surface of Mars, the mission team is busy learning more about the spacecraft's landing site.\n",
      "\n",
      "NASA Hears MarCO CubeSats Loud and Clear from Mars \n",
      "\tA pair of tiny, experimental spacecraft fulfilled their mission yesterday, relaying back near-real-time data during InSight's landing.\n",
      "\n",
      "InSight Is Catching Rays on Mars\n",
      "\tThe lander has sent data indicating its solar panels are open and receiving sunlight to power its surface operations.\n",
      "\n",
      "NASA InSight Lander Arrives on Martian Surface \n",
      "\tThe touchdown marks the eighth time NASA has successfully landed a spacecraft on Mars.\n",
      "\n"
     ]
    }
   ],
   "source": [
    "url = 'https://mars.nasa.gov/news/'\n",
    "\n",
    "with Browser(driver_name, **executable_path, headless=True) as browser:\n",
    "    browser.visit(url)\n",
    "    response = browser.html\n",
    "    \n",
    "    soup = BeautifulSoup(response, 'html.parser')\n",
    "    nasa_news = soup.body.find_all('li', class_='slide')\n",
    "\n",
    "    for item in nasa_news:\n",
    "        news_title = item.find('div', class_='content_title').get_text()\n",
    "        news_p = item.find('div', class_='article_teaser_body').get_text()\n",
    "    \n",
    "        print (f'{news_title}\\n\\t{news_p}\\n')  \n",
    "        "
   ]
  },
  {
   "cell_type": "markdown",
   "metadata": {},
   "source": [
    "### JPL Mars Space Images\n",
    "_____"
   ]
  },
  {
   "cell_type": "code",
   "execution_count": 11,
   "metadata": {},
   "outputs": [
    {
     "name": "stdout",
     "output_type": "stream",
     "text": [
      "Featured image URL : https://www.jpl.nasa.gov/spaceimages/images/mediumsize/PIA16682_ip.jpg\n"
     ]
    }
   ],
   "source": [
    "url = 'https://www.jpl.nasa.gov/spaceimages/?search=&category=Mars'\n",
    "\n",
    "with Browser(driver_name, **executable_path, headless=True) as browser:\n",
    "    browser.visit(url)\n",
    "    response = browser.html\n",
    "    \n",
    "    soup = BeautifulSoup(response, 'html.parser')\n",
    "    \n",
    "    parsed_url = urlparse(url)\n",
    "    image_path = soup.body.find('div', class_='carousel_container').find('a').get('data-fancybox-href')\n",
    "    featured_image_url  = parsed_url.scheme + '://' + parsed_url.netloc + image_path\n",
    "                \n",
    "    print (f'Featured image URL : {featured_image_url}')\n",
    "        "
   ]
  },
  {
   "cell_type": "markdown",
   "metadata": {},
   "source": [
    "### Mars Weather\n",
    "_____"
   ]
  },
  {
   "cell_type": "code",
   "execution_count": 12,
   "metadata": {},
   "outputs": [
    {
     "name": "stdout",
     "output_type": "stream",
     "text": [
      "Latest tweet : InSight sol 162 (2019-05-12) low -100.2ºC (-148.3ºF) high -20.3ºC (-4.5ºF)winds from the SW at 4.5 m/s (10.1 mph) gusting to 14.3 m/s (32.0 mph)pressure at 7.50 hPa\n"
     ]
    }
   ],
   "source": [
    "url = 'https://twitter.com/marswxreport?lang=en'\n",
    "\n",
    "with Browser(driver_name, **executable_path, headless=True) as browser:\n",
    "    browser.visit(url)\n",
    "    response = browser.html\n",
    "    \n",
    "    soup = BeautifulSoup(response, 'html.parser')\n",
    "    tweet_elem = soup.body.find('div', class_='js-tweet-text-container').find('p')\n",
    "    tweet_elem.a.decompose()\n",
    "    \n",
    "    mars_weather = tweet_elem.get_text().replace('\\n','')\n",
    "    \n",
    "    print (f'Latest tweet : {mars_weather}')\n",
    "        "
   ]
  },
  {
   "cell_type": "markdown",
   "metadata": {},
   "source": [
    "### Mars Facts\n",
    "_____"
   ]
  },
  {
   "cell_type": "code",
   "execution_count": 71,
   "metadata": {},
   "outputs": [
    {
     "data": {
      "text/html": [
       "<div>\n",
       "<style scoped>\n",
       "    .dataframe tbody tr th:only-of-type {\n",
       "        vertical-align: middle;\n",
       "    }\n",
       "\n",
       "    .dataframe tbody tr th {\n",
       "        vertical-align: top;\n",
       "    }\n",
       "\n",
       "    .dataframe thead th {\n",
       "        text-align: right;\n",
       "    }\n",
       "</style>\n",
       "<table border=\"1\" class=\"dataframe\">\n",
       "  <thead>\n",
       "    <tr style=\"text-align: right;\">\n",
       "      <th></th>\n",
       "      <th>Description</th>\n",
       "      <th>Value</th>\n",
       "    </tr>\n",
       "  </thead>\n",
       "  <tbody>\n",
       "    <tr>\n",
       "      <th>0</th>\n",
       "      <td>Equatorial Diameter:</td>\n",
       "      <td>6,792 km</td>\n",
       "    </tr>\n",
       "    <tr>\n",
       "      <th>1</th>\n",
       "      <td>Polar Diameter:</td>\n",
       "      <td>6,752 km</td>\n",
       "    </tr>\n",
       "    <tr>\n",
       "      <th>2</th>\n",
       "      <td>Mass:</td>\n",
       "      <td>6.42 x 10^23 kg (10.7% Earth)</td>\n",
       "    </tr>\n",
       "    <tr>\n",
       "      <th>3</th>\n",
       "      <td>Moons:</td>\n",
       "      <td>2 (Phobos &amp; Deimos)</td>\n",
       "    </tr>\n",
       "    <tr>\n",
       "      <th>4</th>\n",
       "      <td>Orbit Distance:</td>\n",
       "      <td>227,943,824 km (1.52 AU)</td>\n",
       "    </tr>\n",
       "    <tr>\n",
       "      <th>5</th>\n",
       "      <td>Orbit Period:</td>\n",
       "      <td>687 days (1.9 years)</td>\n",
       "    </tr>\n",
       "    <tr>\n",
       "      <th>6</th>\n",
       "      <td>Surface Temperature:</td>\n",
       "      <td>-153 to 20 °C</td>\n",
       "    </tr>\n",
       "    <tr>\n",
       "      <th>7</th>\n",
       "      <td>First Record:</td>\n",
       "      <td>2nd millennium BC</td>\n",
       "    </tr>\n",
       "    <tr>\n",
       "      <th>8</th>\n",
       "      <td>Recorded By:</td>\n",
       "      <td>Egyptian astronomers</td>\n",
       "    </tr>\n",
       "  </tbody>\n",
       "</table>\n",
       "</div>"
      ],
      "text/plain": [
       "            Description                          Value\n",
       "0  Equatorial Diameter:                       6,792 km\n",
       "1       Polar Diameter:                       6,752 km\n",
       "2                 Mass:  6.42 x 10^23 kg (10.7% Earth)\n",
       "3                Moons:            2 (Phobos & Deimos)\n",
       "4       Orbit Distance:       227,943,824 km (1.52 AU)\n",
       "5         Orbit Period:           687 days (1.9 years)\n",
       "6  Surface Temperature:                  -153 to 20 °C\n",
       "7         First Record:              2nd millennium BC\n",
       "8          Recorded By:           Egyptian astronomers"
      ]
     },
     "execution_count": 71,
     "metadata": {},
     "output_type": "execute_result"
    }
   ],
   "source": [
    "url = 'https://space-facts.com/mars/'\n",
    "    \n",
    "mars_df = pd.read_html(url)[0]\n",
    "mars_df.columns = ['Description','Value']\n",
    "\n",
    "html_table = mars_df.to_html(index=False)\n",
    "\n",
    "mars_df"
   ]
  },
  {
   "cell_type": "markdown",
   "metadata": {},
   "source": [
    "### Mars Hemispheres\n",
    "_____"
   ]
  },
  {
   "cell_type": "code",
   "execution_count": 72,
   "metadata": {},
   "outputs": [
    {
     "name": "stdout",
     "output_type": "stream",
     "text": [
      "[{'title': 'Cerberus Hemisphere Enhanced', 'img_url': 'https://astrogeology.usgs.gov/cache/images/cfa62af2557222a02478f1fcd781d445_cerberus_enhanced.tif_full.jpg'}, {'title': 'Schiaparelli Hemisphere Enhanced', 'img_url': 'https://astrogeology.usgs.gov/cache/images/3cdd1cbf5e0813bba925c9030d13b62e_schiaparelli_enhanced.tif_full.jpg'}, {'title': 'Syrtis Major Hemisphere Enhanced', 'img_url': 'https://astrogeology.usgs.gov/cache/images/ae209b4e408bb6c3e67b6af38168cf28_syrtis_major_enhanced.tif_full.jpg'}, {'title': 'Valles Marineris Hemisphere Enhanced', 'img_url': 'https://astrogeology.usgs.gov/cache/images/7cf2da4bf549ed01c17f206327be4db7_valles_marineris_enhanced.tif_full.jpg'}]\n"
     ]
    }
   ],
   "source": [
    "url = 'https://astrogeology.usgs.gov/search/results?q=hemisphere+enhanced&k1=target&v1=Mars'\n",
    "parsed_url = urlparse(url)\n",
    "base_url = parsed_url.scheme + '://' + parsed_url.netloc\n",
    "\n",
    "hemisphere_image_urls = []\n",
    "\n",
    "with Browser(driver_name, **executable_path, headless=True) as browser:\n",
    "    browser.visit(url)\n",
    "    response = browser.html\n",
    "    soup = BeautifulSoup(response, 'html.parser')\n",
    "\n",
    "    for item in soup.body.find('div', class_='collapsible results').find_all('div', class_='item'):\n",
    "        with Browser(driver_name, **executable_path, headless=True) as b:\n",
    "            b.visit(base_url + item.a.get('href'))\n",
    "            img_soup = BeautifulSoup(b.html, 'html.parser')\n",
    "            \n",
    "            title = img_soup.body.find('h2', class_='title').get_text()\n",
    "            img = base_url + img_soup.body.find('img', class_='wide-image').get('src')\n",
    "            \n",
    "            hemisphere_image_urls.append({ 'title' : title, 'img_url' : img})\n",
    "            \n",
    "print (hemisphere_image_urls)\n",
    "        "
   ]
  },
  {
   "cell_type": "code",
   "execution_count": null,
   "metadata": {},
   "outputs": [],
   "source": []
  }
 ],
 "metadata": {
  "kernelspec": {
   "display_name": "Python 3",
   "language": "python",
   "name": "python3"
  },
  "language_info": {
   "codemirror_mode": {
    "name": "ipython",
    "version": 3
   },
   "file_extension": ".py",
   "mimetype": "text/x-python",
   "name": "python",
   "nbconvert_exporter": "python",
   "pygments_lexer": "ipython3",
   "version": "3.7.0"
  }
 },
 "nbformat": 4,
 "nbformat_minor": 2
}
