{
 "cells": [
  {
   "cell_type": "code",
   "execution_count": 1,
   "metadata": {},
   "outputs": [],
   "source": [
    "import pandas as pd"
   ]
  },
  {
   "cell_type": "markdown",
   "metadata": {},
   "source": [
    "### 1. Loading Dataframe"
   ]
  },
  {
   "cell_type": "code",
   "execution_count": 2,
   "metadata": {},
   "outputs": [
    {
     "data": {
      "text/html": [
       "<div>\n",
       "<style scoped>\n",
       "    .dataframe tbody tr th:only-of-type {\n",
       "        vertical-align: middle;\n",
       "    }\n",
       "\n",
       "    .dataframe tbody tr th {\n",
       "        vertical-align: top;\n",
       "    }\n",
       "\n",
       "    .dataframe thead th {\n",
       "        text-align: right;\n",
       "    }\n",
       "</style>\n",
       "<table border=\"1\" class=\"dataframe\">\n",
       "  <thead>\n",
       "    <tr style=\"text-align: right;\">\n",
       "      <th></th>\n",
       "      <th>Age</th>\n",
       "      <th>AttendedBootcamp</th>\n",
       "      <th>BootcampFinish</th>\n",
       "      <th>BootcampFullJobAfter</th>\n",
       "      <th>BootcampLoanYesNo</th>\n",
       "      <th>BootcampPostSalary</th>\n",
       "      <th>BootcampRecommend</th>\n",
       "      <th>ChildrenNumber</th>\n",
       "      <th>CityPopulation</th>\n",
       "      <th>CodeEventBootcamp</th>\n",
       "      <th>CountryLive</th>\n",
       "      <th>EmploymentField</th>\n",
       "      <th>EmploymentStatus</th>\n",
       "      <th>Gender</th>\n",
       "      <th>HasChildren</th>\n",
       "      <th>HoursLearning</th>\n",
       "      <th>Income</th>\n",
       "      <th>JobRoleInterest</th>\n",
       "      <th>SchoolDegree</th>\n",
       "      <th>SchoolMajor</th>\n",
       "    </tr>\n",
       "  </thead>\n",
       "  <tbody>\n",
       "    <tr>\n",
       "      <th>0</th>\n",
       "      <td>28.0</td>\n",
       "      <td>0.0</td>\n",
       "      <td>NaN</td>\n",
       "      <td>NaN</td>\n",
       "      <td>NaN</td>\n",
       "      <td>NaN</td>\n",
       "      <td>NaN</td>\n",
       "      <td>NaN</td>\n",
       "      <td>between 100,000 and 1 million</td>\n",
       "      <td>NaN</td>\n",
       "      <td>United States of America</td>\n",
       "      <td>office and administrative support</td>\n",
       "      <td>Employed for wages</td>\n",
       "      <td>male</td>\n",
       "      <td>0.0</td>\n",
       "      <td>30.0</td>\n",
       "      <td>32000.0</td>\n",
       "      <td>NaN</td>\n",
       "      <td>some college credit, no degree</td>\n",
       "      <td>NaN</td>\n",
       "    </tr>\n",
       "    <tr>\n",
       "      <th>1</th>\n",
       "      <td>22.0</td>\n",
       "      <td>0.0</td>\n",
       "      <td>NaN</td>\n",
       "      <td>NaN</td>\n",
       "      <td>NaN</td>\n",
       "      <td>NaN</td>\n",
       "      <td>NaN</td>\n",
       "      <td>NaN</td>\n",
       "      <td>between 100,000 and 1 million</td>\n",
       "      <td>NaN</td>\n",
       "      <td>United States of America</td>\n",
       "      <td>food and beverage</td>\n",
       "      <td>Employed for wages</td>\n",
       "      <td>male</td>\n",
       "      <td>NaN</td>\n",
       "      <td>30.0</td>\n",
       "      <td>15000.0</td>\n",
       "      <td>Front-End Web Developer</td>\n",
       "      <td>some college credit, no degree</td>\n",
       "      <td>NaN</td>\n",
       "    </tr>\n",
       "    <tr>\n",
       "      <th>2</th>\n",
       "      <td>19.0</td>\n",
       "      <td>0.0</td>\n",
       "      <td>NaN</td>\n",
       "      <td>NaN</td>\n",
       "      <td>NaN</td>\n",
       "      <td>NaN</td>\n",
       "      <td>NaN</td>\n",
       "      <td>NaN</td>\n",
       "      <td>more than 1 million</td>\n",
       "      <td>NaN</td>\n",
       "      <td>United States of America</td>\n",
       "      <td>finance</td>\n",
       "      <td>Employed for wages</td>\n",
       "      <td>male</td>\n",
       "      <td>NaN</td>\n",
       "      <td>20.0</td>\n",
       "      <td>48000.0</td>\n",
       "      <td>NaN</td>\n",
       "      <td>high school diploma or equivalent (GED)</td>\n",
       "      <td>NaN</td>\n",
       "    </tr>\n",
       "  </tbody>\n",
       "</table>\n",
       "</div>"
      ],
      "text/plain": [
       "    Age  AttendedBootcamp  BootcampFinish  BootcampFullJobAfter  \\\n",
       "0  28.0               0.0             NaN                   NaN   \n",
       "1  22.0               0.0             NaN                   NaN   \n",
       "2  19.0               0.0             NaN                   NaN   \n",
       "\n",
       "   BootcampLoanYesNo  BootcampPostSalary  BootcampRecommend  ChildrenNumber  \\\n",
       "0                NaN                 NaN                NaN             NaN   \n",
       "1                NaN                 NaN                NaN             NaN   \n",
       "2                NaN                 NaN                NaN             NaN   \n",
       "\n",
       "                  CityPopulation  CodeEventBootcamp               CountryLive  \\\n",
       "0  between 100,000 and 1 million                NaN  United States of America   \n",
       "1  between 100,000 and 1 million                NaN  United States of America   \n",
       "2            more than 1 million                NaN  United States of America   \n",
       "\n",
       "                     EmploymentField    EmploymentStatus Gender  HasChildren  \\\n",
       "0  office and administrative support  Employed for wages   male          0.0   \n",
       "1                  food and beverage  Employed for wages   male          NaN   \n",
       "2                            finance  Employed for wages   male          NaN   \n",
       "\n",
       "   HoursLearning   Income            JobRoleInterest  \\\n",
       "0           30.0  32000.0                        NaN   \n",
       "1           30.0  15000.0    Front-End Web Developer   \n",
       "2           20.0  48000.0                        NaN   \n",
       "\n",
       "                              SchoolDegree SchoolMajor  \n",
       "0           some college credit, no degree         NaN  \n",
       "1           some college credit, no degree         NaN  \n",
       "2  high school diploma or equivalent (GED)         NaN  "
      ]
     },
     "execution_count": 2,
     "metadata": {},
     "output_type": "execute_result"
    }
   ],
   "source": [
    "filter_columns = [0, 1, 2, 3, 4, 7, 8, 9, 10, 11, 29, 30, 32, 36, 37, 45, 48, 56, 110, 111]\n",
    "\n",
    "bootcamp = pd.read_csv('resources/2016-FCC-New-Coders-Survey-Data.csv', usecols=filter_columns)\n",
    "\n",
    "bootcamp.head(3)"
   ]
  },
  {
   "cell_type": "markdown",
   "metadata": {},
   "source": [
    "### 2. Analyzing Dataframe"
   ]
  },
  {
   "cell_type": "code",
   "execution_count": 3,
   "metadata": {},
   "outputs": [
    {
     "data": {
      "text/plain": [
       "(15620, 20)"
      ]
     },
     "execution_count": 3,
     "metadata": {},
     "output_type": "execute_result"
    }
   ],
   "source": [
    "bootcamp.shape"
   ]
  },
  {
   "cell_type": "code",
   "execution_count": 4,
   "metadata": {},
   "outputs": [
    {
     "name": "stdout",
     "output_type": "stream",
     "text": [
      "<class 'pandas.core.frame.DataFrame'>\n",
      "RangeIndex: 15620 entries, 0 to 15619\n",
      "Data columns (total 20 columns):\n",
      "Age                     13613 non-null float64\n",
      "AttendedBootcamp        15380 non-null float64\n",
      "BootcampFinish          933 non-null float64\n",
      "BootcampFullJobAfter    635 non-null float64\n",
      "BootcampLoanYesNo       934 non-null float64\n",
      "BootcampPostSalary      330 non-null float64\n",
      "BootcampRecommend       937 non-null float64\n",
      "ChildrenNumber          2554 non-null float64\n",
      "CityPopulation          13630 non-null object\n",
      "CodeEventBootcamp       42 non-null float64\n",
      "CountryLive             13610 non-null object\n",
      "EmploymentField         7608 non-null object\n",
      "EmploymentStatus        12904 non-null object\n",
      "Gender                  13746 non-null object\n",
      "HasChildren             4012 non-null float64\n",
      "HoursLearning           14942 non-null float64\n",
      "Income                  7329 non-null float64\n",
      "JobRoleInterest         6503 non-null object\n",
      "SchoolDegree            13679 non-null object\n",
      "SchoolMajor             8450 non-null object\n",
      "dtypes: float64(12), object(8)\n",
      "memory usage: 2.4+ MB\n"
     ]
    }
   ],
   "source": [
    "bootcamp.info()"
   ]
  },
  {
   "cell_type": "markdown",
   "metadata": {},
   "source": [
    "### 3. Replace functions"
   ]
  },
  {
   "cell_type": "code",
   "execution_count": 5,
   "metadata": {},
   "outputs": [],
   "source": [
    "bootcamp.replace(to_replace = 0.0, value='No', inplace=True)\n",
    "bootcamp.replace(to_replace = 1.0, value='Yes', inplace=True)"
   ]
  },
  {
   "cell_type": "markdown",
   "metadata": {},
   "source": [
    "#### 4. Calculate the total number of respondents in the subtable you built."
   ]
  },
  {
   "cell_type": "code",
   "execution_count": 6,
   "metadata": {},
   "outputs": [
    {
     "data": {
      "text/plain": [
       "15620"
      ]
     },
     "execution_count": 6,
     "metadata": {},
     "output_type": "execute_result"
    }
   ],
   "source": [
    "total_survey = bootcamp.isnull().all(1).count()\n",
    "\n",
    "total_survey"
   ]
  },
  {
   "cell_type": "markdown",
   "metadata": {},
   "source": [
    "#### 5. Create a table out of the rows corresponding only to people who did attend a bootcamp."
   ]
  },
  {
   "cell_type": "code",
   "execution_count": 7,
   "metadata": {},
   "outputs": [
    {
     "data": {
      "text/html": [
       "<div>\n",
       "<style scoped>\n",
       "    .dataframe tbody tr th:only-of-type {\n",
       "        vertical-align: middle;\n",
       "    }\n",
       "\n",
       "    .dataframe tbody tr th {\n",
       "        vertical-align: top;\n",
       "    }\n",
       "\n",
       "    .dataframe thead th {\n",
       "        text-align: right;\n",
       "    }\n",
       "</style>\n",
       "<table border=\"1\" class=\"dataframe\">\n",
       "  <thead>\n",
       "    <tr style=\"text-align: right;\">\n",
       "      <th></th>\n",
       "      <th>Total Surveyed</th>\n",
       "      <th>Total Bootcamp attendees</th>\n",
       "      <th>% attended bootcamp</th>\n",
       "      <th>Avg. Age</th>\n",
       "      <th>Has a degree</th>\n",
       "      <th>% Male</th>\n",
       "      <th>% Female</th>\n",
       "      <th>% Non Gender Specific</th>\n",
       "      <th>Average Post Bootcamp Salary</th>\n",
       "    </tr>\n",
       "  </thead>\n",
       "  <tbody>\n",
       "    <tr>\n",
       "      <th>0</th>\n",
       "      <td>15620</td>\n",
       "      <td>953</td>\n",
       "      <td>6.10%</td>\n",
       "      <td>31.07</td>\n",
       "      <td>87.30%</td>\n",
       "      <td>52.05%</td>\n",
       "      <td>34.21%</td>\n",
       "      <td>1.15%</td>\n",
       "      <td>$63,740.51</td>\n",
       "    </tr>\n",
       "  </tbody>\n",
       "</table>\n",
       "</div>"
      ],
      "text/plain": [
       "   Total Surveyed  Total Bootcamp attendees % attended bootcamp Avg. Age  \\\n",
       "0           15620                       953               6.10%    31.07   \n",
       "\n",
       "  Has a degree  % Male % Female % Non Gender Specific  \\\n",
       "0       87.30%  52.05%   34.21%                 1.15%   \n",
       "\n",
       "  Average Post Bootcamp Salary  \n",
       "0                   $63,740.51  "
      ]
     },
     "execution_count": 7,
     "metadata": {},
     "output_type": "execute_result"
    }
   ],
   "source": [
    "cond = bootcamp['AttendedBootcamp'] == 'Yes'\n",
    "\n",
    "attended = bootcamp[cond].copy(deep=True)\n",
    "\n",
    "total_attended      = attended['AttendedBootcamp'].count()\n",
    "average_age         = attended['Age'].mean()\n",
    "gender_male         = (attended['Gender'][attended['Gender'] == 'male'].count() / total_attended) * 100\n",
    "gender_female       = (attended['Gender'][attended['Gender'] == 'female'].count() / total_attended) * 100\n",
    "gender_others       = (attended['Gender'][(attended['Gender'] != 'male') & (attended['Gender'] != 'female')].count() / total_attended) * 100\n",
    "perc_attended       = (len(attended) / bootcamp.isnull().all(1).count()) * 100\n",
    "perc_college_degree = (attended['SchoolDegree'].count() / total_attended) * 100\n",
    "average_salary      = attended['BootcampPostSalary'].mean()\n",
    "\n",
    "attended_data = [{\n",
    "    \"Total Surveyed\" : total_survey,\n",
    "    \"Total Bootcamp attendees\" : total_attended,\n",
    "    \"% attended bootcamp\" : perc_attended,\n",
    "    \"Avg. Age\" : average_age,\n",
    "    \"Has a degree\" : perc_college_degree,\n",
    "    \"% Male\" : gender_male,\n",
    "    \"% Female\" : gender_female,\n",
    "    \"% Non Gender Specific\" : gender_others,\n",
    "    \"Average Post Bootcamp Salary\" : average_salary\n",
    "}]\n",
    "\n",
    "bootcamp_summary = pd.DataFrame(data=attended_data, columns=list(attended_data[0].keys()))\n",
    "\n",
    "bootcamp_summary['% attended bootcamp'] = bootcamp_summary['% attended bootcamp'].map(\"{:,.2f}%\".format)\n",
    "bootcamp_summary['Avg. Age'] = bootcamp_summary['Avg. Age'].map(\"{:,.2f}\".format)\n",
    "bootcamp_summary['Has a degree'] = bootcamp_summary['Has a degree'].map(\"{:,.2f}%\".format)\n",
    "bootcamp_summary['% Male'] = bootcamp_summary['% Male'].map(\"{:,.2f}%\".format)\n",
    "bootcamp_summary['% Female'] = bootcamp_summary['% Female'].map(\"{:,.2f}%\".format)\n",
    "bootcamp_summary['% Non Gender Specific'] = bootcamp_summary['% Non Gender Specific'].map(\"{:,.2f}%\".format)\n",
    "bootcamp_summary['Average Post Bootcamp Salary'] = bootcamp_summary['Average Post Bootcamp Salary'].map(\"${:,.2f}\".format)\n",
    "\n",
    "bootcamp_summary.to_excel('output/bootcamp_summary.xlsx',index=False)\n",
    "bootcamp_summary"
   ]
  },
  {
   "cell_type": "code",
   "execution_count": null,
   "metadata": {},
   "outputs": [],
   "source": []
  }
 ],
 "metadata": {
  "kernelspec": {
   "display_name": "Python 3",
   "language": "python",
   "name": "python3"
  },
  "language_info": {
   "codemirror_mode": {
    "name": "ipython",
    "version": 3
   },
   "file_extension": ".py",
   "mimetype": "text/x-python",
   "name": "python",
   "nbconvert_exporter": "python",
   "pygments_lexer": "ipython3",
   "version": "3.7.0"
  }
 },
 "nbformat": 4,
 "nbformat_minor": 2
}
